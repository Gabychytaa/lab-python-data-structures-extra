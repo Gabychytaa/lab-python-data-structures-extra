{
 "cells": [
  {
   "cell_type": "markdown",
   "metadata": {},
   "source": [
    "# Lab | Data Structures "
   ]
  },
  {
   "cell_type": "markdown",
   "metadata": {},
   "source": [
    "## Exercise 1: Working with Lists"
   ]
  },
  {
   "cell_type": "markdown",
   "metadata": {},
   "source": [
    "Imagine you are building a program for a teacher who wants to track the progress of their students throughout the semester. The teacher wants to input the grades of each student one by one, and get a summary of their performance. There are in total 5 students. You are tasked with building the program that will allow the teacher to do this easily.\n",
    "\n",
    "The program will prompt the teacher to enter the grades of each student. Once the teacher has entered all the grades, the program will calculate the total sum of the grades and display it on the screen. Then, the program will create a new list by selecting only the grades of the first, third, and fifth students entered by the teacher, and sort them in ascending order.\n",
    "\n",
    "Finally, the program will print out the new list, along with its length and the number of occurrences of the score 5 in the list. This will give the teacher a good overview of the performance of the selected students, and help them identify any potential issues early on."
   ]
  },
  {
   "cell_type": "markdown",
   "metadata": {},
   "source": [
    "*Hint:*\n",
    "- You can use the input() function to ask the user to enter their information.\n",
    "- Look for list methods to perform the tasks. \n",
    "- Remember, it is possible to get a part of the sequence using:\n",
    "\n",
    "    ```python\n",
    "    sequence[x:y:z]\n",
    "    ```\n",
    "    where x, y, z are integers.\n",
    "\n",
    "    The above returns a new sequence with the following characteristics:\n",
    "\n",
    "    - A sequence with the same type as the original (a slice of a list is a list, a slice of a tuple is a tuple, and a slice of a string is a string).\n",
    "    - A sequence with elements from `sequence [x]` to `sequence [y-1]` (does not include a sequence [y]). By skipping `z` elements each time, it can be omitted if ` z = 1`.\n"
   ]
  },
  {
   "cell_type": "markdown",
   "metadata": {},
   "source": [
    "*Recommended External Resources:*\n",
    "- *[Python Lists](https://www.w3schools.com/python/python_lists.asp)*\n",
    "- *[Python List Methods](https://www.w3schools.com/python/python_ref_list.asp)*\n",
    "- *[Python Built-in Functions](https://docs.python.org/3/library/functions.html)*\n"
   ]
  },
  {
   "cell_type": "code",
   "execution_count": 7,
   "metadata": {},
   "outputs": [
    {
     "name": "stdout",
     "output_type": "stream",
     "text": [
      "\n",
      "Total sum of grades: 34\n",
      "\n",
      "Selected grades (sorted): [5, 8, 9]\n",
      "lenght of selected list: 3\n",
      "Occurences of score 5: 1\n"
     ]
    }
   ],
   "source": [
    "#Ask for 5 grades\n",
    "grades = []\n",
    "\n",
    "for i in range(5):\n",
    "    grade = int(input(\"Enter grade for student {i+1}: \"))\n",
    "    grades.append(grade)\n",
    "    \n",
    "#Calcualte total sum\n",
    "total = sum(grades)\n",
    "print(f\"\\nTotal sum of grades: {total}\")\n",
    "\n",
    "#Select 1st, 3rd and  5th (index 0, 2, 4)\n",
    "selected = [grades[0], grades[2], grades[4]]\n",
    "\n",
    "#Sort the list\n",
    "selected.sort()\n",
    "\n",
    "#Print time\n",
    "print(f\"\\nSelected grades (sorted):\", selected)\n",
    "print(\"lenght of selected list:\", len(selected))\n",
    "print(\"Occurences of score 5:\", selected.count(5))"
   ]
  },
  {
   "cell_type": "markdown",
   "metadata": {},
   "source": [
    "## Exercise 2: Tuples"
   ]
  },
  {
   "cell_type": "markdown",
   "metadata": {},
   "source": [
    "Imagine you're running a fruit stand and want to keep track of your inventory. Write a Python program that does the following:\n",
    "\n",
    "- Initializes a tuple with 5 different types of fruit.\n",
    "- Outputs the first and last elements of the tuple, so you can see the full range of fruits the store offers.\n",
    "- Replaces the second element of the tuple with a new fruit that the store has recently received, and prints the updated tuple so you can see the changes.\n",
    "- Concatenates a new tuple containing 2 additional fruits to the original tuple, so you can add them to the store inventory, and prints the resulting tuple to see the updated inventory.\n",
    "- Splits the resulting tuple into 2 tuples of 3 elements each (the first tuple contains the first 3 elements, and the second tuple contains the last 3 elements), so you can organize the inventory more effectively.\n",
    "- Combines the 2 tuples from the previous step with the original tuple into a new tuple, and prints the resulting tuple and its length, so you can see the final inventory after all the changes."
   ]
  },
  {
   "cell_type": "markdown",
   "metadata": {},
   "source": [
    "*Recommended External Resources: [Python Tuples Examples and Methods](https://www.w3schools.com/python/python_tuples.asp)*\n",
    "\n"
   ]
  },
  {
   "cell_type": "code",
   "execution_count": 8,
   "metadata": {},
   "outputs": [
    {
     "name": "stdout",
     "output_type": "stream",
     "text": [
      "Original tuple: ('apple', 'banana', 'orange', 'grape', 'mango')\n",
      "First fruit: apple\n",
      "Last fruit: mango\n",
      "Updated tuple (second fruit replaced): ('apple', 'kiwi', 'orange', 'grape', 'mango')\n",
      "After adding 2 fruits: ('apple', 'kiwi', 'orange', 'grape', 'mango', 'pineapple', 'pear')\n",
      "Tuple 1: ('apple', 'kiwi', 'orange')\n",
      "Tuple 2: ('grape', 'mango', 'pineapple')\n",
      "Final combined tuple: ('apple', 'kiwi', 'orange', 'grape', 'mango', 'pineapple', 'apple', 'kiwi', 'orange', 'grape', 'mango', 'pineapple', 'pear')\n",
      "Length of final tuple: 13\n"
     ]
    }
   ],
   "source": [
    "# Step 1: Initialize tuple\n",
    "fruits = (\"apple\", \"banana\", \"orange\", \"grape\", \"mango\")\n",
    "print(\"Original tuple:\", fruits)\n",
    "\n",
    "# Step 2: Print first and last\n",
    "print(\"First fruit:\", fruits[0])\n",
    "print(\"Last fruit:\", fruits[-1])\n",
    "\n",
    "# Step 3: Replace second element (convert to list, change, back to tuple)\n",
    "fruits_list = list(fruits)\n",
    "fruits_list[1] = \"kiwi\"\n",
    "fruits = tuple(fruits_list)\n",
    "print(\"Updated tuple (second fruit replaced):\", fruits)\n",
    "\n",
    "# Step 4: Concatenate new tuple with 2 more fruits\n",
    "extra_fruits = (\"pineapple\", \"pear\")\n",
    "fruits = fruits + extra_fruits\n",
    "print(\"After adding 2 fruits:\", fruits)\n",
    "\n",
    "# Step 5: Split into 2 tuples of 3 elements each\n",
    "tuple1 = fruits[:3]  # first 3 elements\n",
    "tuple2 = fruits[3:6] # next 3 elements\n",
    "print(\"Tuple 1:\", tuple1)\n",
    "print(\"Tuple 2:\", tuple2)\n",
    "\n",
    "# Step 6: Combine tuple1 + tuple2 + original fruits\n",
    "final_tuple = tuple1 + tuple2 + fruits\n",
    "print(\"Final combined tuple:\", final_tuple)\n",
    "\n",
    "# Step 7: Print length\n",
    "print(\"Length of final tuple:\", len(final_tuple))\n"
   ]
  },
  {
   "cell_type": "markdown",
   "metadata": {},
   "source": [
    "## Exercise 3: Sets"
   ]
  },
  {
   "cell_type": "markdown",
   "metadata": {},
   "source": [
    "Imagine you are a data analyst working for a literature museum. Your manager has given you two poems to analyze, and she wants you to write a Python program to extract useful information from them.\n",
    "\n",
    "Your program should:\n",
    "\n",
    "- Create two sets, one for each poem, containing all unique words in both poems (ignoring case and punctuation).\n",
    "- Print the number of unique words in each set.\n",
    "- Identify and print the unique words present in the first poem but not in the second one.\n",
    "- Identify and print the unique words present in the second poem but not in the first one.\n",
    "- Identify and print the unique words present in both poems and print it in alphabetical order."
   ]
  },
  {
   "cell_type": "markdown",
   "metadata": {},
   "source": [
    "*Recommended External Resources:*\n",
    "- *[Python Sets](https://www.w3schools.com/python/python_sets.asp)* \n",
    "- *[Python Set Methods](https://www.w3schools.com/python/python_ref_set.asp)*\n",
    "- *[Python String Methods](https://www.w3schools.com/python/python_ref_string.asp)*\n"
   ]
  },
  {
   "cell_type": "code",
   "execution_count": 9,
   "metadata": {},
   "outputs": [],
   "source": [
    "poem = \"\"\"Some say the world will end in fire,\n",
    "Some say in ice.\n",
    "From what I’ve tasted of desire\n",
    "I hold with those who favor fire.\n",
    "But if it had to perish twice,\n",
    "I think I know enough of hate\n",
    "To say that for destruction ice\n",
    "Is also great\n",
    "And would suffice.\"\"\"\n",
    "\n",
    "new_poem = \"\"\"Some say life is but a dream,\n",
    "Some say it's a test.\n",
    "From what I've seen and what I deem,\n",
    "I side with those who see it as a quest.\n",
    "\n",
    "But if it had to end today,\n",
    "I think I know enough of love,\n",
    "To say that though it fades away,\n",
    "It's still what we are made of.\"\"\""
   ]
  },
  {
   "cell_type": "code",
   "execution_count": 13,
   "metadata": {},
   "outputs": [
    {
     "name": "stdout",
     "output_type": "stream",
     "text": [
      "Unique words in poem 1: 41\n",
      "Unique words in poem 2: 42\n",
      "\n",
      "Words in poem 1 but not poem 2:\n",
      "{'also', 'great', 'desire', 'twice', 'destruction', 'hate', 'tasted', 'hold', 'for', 'the', 'perish', 'world', 'will', 'i’ve', 'suffice', 'in', 'would', 'fire', 'ice', 'favor'}\n",
      "\n",
      "Words in poem 2 but not poem 1:\n",
      "{'love', 'away', 'side', 'though', 'we', 'life', 'made', 'are', 'its', 'quest', 'test', 'see', 'today', 'deem', 'still', 'fades', 'ive', 'a', 'seen', 'dream', 'as'}\n",
      "\n",
      "Words in both poems (alphabetical):\n",
      "['and', 'but', 'end', 'enough', 'from', 'had', 'i', 'if', 'is', 'it', 'know', 'of', 'say', 'some', 'that', 'think', 'those', 'to', 'what', 'who', 'with']\n"
     ]
    }
   ],
   "source": [
    "set1 = set(clean_text(poem))\n",
    "set2 = set(clean_text(new_poem))\n",
    "\n",
    "# Step 3: Print number of unique words\n",
    "print(\"Unique words in poem 1:\", len(set1))\n",
    "print(\"Unique words in poem 2:\", len(set2))\n",
    "\n",
    "# Step 4: Unique to poem1\n",
    "print(\"\\nWords in poem 1 but not poem 2:\")\n",
    "print(set1 - set2)\n",
    "\n",
    "# Step 5: Unique to poem2\n",
    "print(\"\\nWords in poem 2 but not poem 1:\")\n",
    "print(set2 - set1)\n",
    "\n",
    "# Step 6: Words in both, alphabetical\n",
    "print(\"\\nWords in both poems (alphabetical):\")\n",
    "print(sorted(set1 & set2))"
   ]
  },
  {
   "cell_type": "markdown",
   "metadata": {},
   "source": [
    "## Exercise 4: Dictionaries"
   ]
  },
  {
   "cell_type": "markdown",
   "metadata": {},
   "source": [
    "Consider the following dictionary of students with their scores in different subjects. One of the students, Bob, has complained about his score in Philosophy and, after reviewing it, the teacher has decided to update his score to 100. Write a Python program that updates Bob's score in Philosophy to 100 in the dictionary."
   ]
  },
  {
   "cell_type": "markdown",
   "metadata": {},
   "source": [
    "*Recommended External Resources: [Python Dictionary Examples and Methods](https://www.w3schools.com/python/python_dictionaries.asp)*\n"
   ]
  },
  {
   "cell_type": "code",
   "execution_count": 14,
   "metadata": {},
   "outputs": [],
   "source": [
    "grades = {'Alice': {'Physics': 75, 'Math': 85, 'Chemistry': 60, 'Philosophy': 90}, 'Bob': {'Physics': 75, 'Math': 85, 'Chemistry': 60, 'Philosophy': 90}}"
   ]
  },
  {
   "cell_type": "code",
   "execution_count": 15,
   "metadata": {},
   "outputs": [
    {
     "name": "stdout",
     "output_type": "stream",
     "text": [
      "Updated grades: {'Alice': {'Physics': 75, 'Math': 85, 'Chemistry': 60, 'Philosophy': 90}, 'Bob': {'Physics': 75, 'Math': 85, 'Chemistry': 60, 'Philosophy': 100}}\n"
     ]
    }
   ],
   "source": [
    "# Update Bob's Philosophy score\n",
    "grades['Bob']['Philosophy'] = 100\n",
    "\n",
    "# Print updated dictionary\n",
    "print(\"Updated grades:\", grades)"
   ]
  },
  {
   "cell_type": "markdown",
   "metadata": {},
   "source": [
    "## Bonus"
   ]
  },
  {
   "cell_type": "markdown",
   "metadata": {},
   "source": [
    "1. Below are the two lists. Write a Python program to convert them into a dictionary in a way that item from list1 is the key and item from list2 is the value."
   ]
  },
  {
   "cell_type": "markdown",
   "metadata": {},
   "source": [
    "*Hint: Use the zip() function. This function takes two or more iterables (like list, dict, string), aggregates them in a tuple, and returns it. Afterwards, you can use a function that turns a tuple into a dictionary.*"
   ]
  },
  {
   "cell_type": "markdown",
   "metadata": {},
   "source": [
    "*Recommended External Resources: [Python Zip Function](https://www.w3schools.com/python/ref_func_zip.asp)*\n"
   ]
  },
  {
   "cell_type": "code",
   "execution_count": 16,
   "metadata": {},
   "outputs": [
    {
     "name": "stdout",
     "output_type": "stream",
     "text": [
      "Grades dictionary: {'Physics': 75, 'Math': 85, 'Chemistry': 60, 'Philosophy': 90}\n"
     ]
    }
   ],
   "source": [
    "keys = ['Physics', 'Math', 'Chemistry', 'Philosophy']\n",
    "values = [75, 85, 60,90]\n",
    "\n",
    "# Convert lists to dictionary using zip()\n",
    "grades_dict = dict(zip(keys, values))\n",
    "\n",
    "print(\"Grades dictionary:\", grades_dict)"
   ]
  },
  {
   "cell_type": "markdown",
   "metadata": {},
   "source": [
    "2. Get the subject with the minimum score from the previous dictionary."
   ]
  },
  {
   "cell_type": "markdown",
   "metadata": {},
   "source": [
    "*Hint: Use the built-in function min(). Read about the parameter key.*"
   ]
  },
  {
   "cell_type": "markdown",
   "metadata": {},
   "source": [
    "\n",
    "*Recommended External Resources:*\n",
    "- *[Python Min Function Official Documentation](https://docs.python.org/3.8/library/functions.html#min)*\n",
    "- *[How to use key function in max and min in Python](https://medium.com/analytics-vidhya/how-to-use-key-function-in-max-and-min-in-python-1fdbd661c59c)*"
   ]
  },
  {
   "cell_type": "code",
   "execution_count": 17,
   "metadata": {},
   "outputs": [
    {
     "name": "stdout",
     "output_type": "stream",
     "text": [
      "Subject with minimum score: Chemistry = 60\n"
     ]
    }
   ],
   "source": [
    "# Find the subject with minimum score\n",
    "min_subject = min(grades_dict, key=grades_dict.get)\n",
    "\n",
    "print(\"Subject with minimum score:\", min_subject, \"=\", grades_dict[min_subject])"
   ]
  }
 ],
 "metadata": {
  "kernelspec": {
   "display_name": "base",
   "language": "python",
   "name": "python3"
  },
  "language_info": {
   "codemirror_mode": {
    "name": "ipython",
    "version": 3
   },
   "file_extension": ".py",
   "mimetype": "text/x-python",
   "name": "python",
   "nbconvert_exporter": "python",
   "pygments_lexer": "ipython3",
   "version": "3.12.7"
  }
 },
 "nbformat": 4,
 "nbformat_minor": 4
}
